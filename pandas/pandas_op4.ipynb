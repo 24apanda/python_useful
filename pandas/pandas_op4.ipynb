{
 "cells": [
  {
   "cell_type": "code",
   "execution_count": 3,
   "metadata": {
    "collapsed": false
   },
   "outputs": [
    {
     "name": "stdout",
     "output_type": "stream",
     "text": [
      "    Points  Rank    Team  Year\n",
      "0      876     1  Riders  2014\n",
      "1      789     2  Riders  2015\n",
      "2      863     2  Devils  2014\n",
      "3      673     3  Devils  2015\n",
      "4      741     3   Kings  2014\n",
      "5      812     4   kings  2015\n",
      "6      756     1   Kings  2016\n",
      "7      788     1   Kings  2017\n",
      "8      694     2  Riders  2016\n",
      "9      701     4  Royals  2014\n",
      "10     804     1  Royals  2015\n",
      "11     690     2  Riders  2017\n",
      "<pandas.core.groupby.DataFrameGroupBy object at 0x000001DB50C0DCC0>\n"
     ]
    }
   ],
   "source": [
    "import pandas as pd\n",
    "import numpy as np\n",
    "ipl_data = {'Team': ['Riders', 'Riders', 'Devils', 'Devils', 'Kings',\n",
    "         'kings', 'Kings', 'Kings', 'Riders', 'Royals', 'Royals', 'Riders'],\n",
    "         'Rank': [1, 2, 2, 3, 3,4 ,1 ,1,2 , 4,1,2],\n",
    "         'Year': [2014,2015,2014,2015,2014,2015,2016,2017,2016,2014,2015,2017],\n",
    "         'Points':[876,789,863,673,741,812,756,788,694,701,804,690]}\n",
    "df = pd.DataFrame(ipl_data)\n",
    "print(df)\n",
    "\n",
    "print (df.groupby('Team'))"
   ]
  },
  {
   "cell_type": "code",
   "execution_count": 4,
   "metadata": {
    "collapsed": false
   },
   "outputs": [
    {
     "name": "stdout",
     "output_type": "stream",
     "text": [
      "{'Riders': [0, 1, 8, 11], 'kings': [5], 'Royals': [9, 10], 'Devils': [2, 3], 'Kings': [4, 6, 7]}\n"
     ]
    }
   ],
   "source": [
    "print (df.groupby('Team').groups)"
   ]
  },
  {
   "cell_type": "code",
   "execution_count": 5,
   "metadata": {
    "collapsed": false
   },
   "outputs": [
    {
     "name": "stdout",
     "output_type": "stream",
     "text": [
      "{('Devils', 2014): [2], ('Royals', 2014): [9], ('Devils', 2015): [3], ('Kings', 2016): [6], ('Kings', 2017): [7], ('Riders', 2017): [11], ('Kings', 2014): [4], ('Royals', 2015): [10], ('Riders', 2015): [1], ('Riders', 2014): [0], ('Riders', 2016): [8], ('kings', 2015): [5]}\n"
     ]
    }
   ],
   "source": [
    "print( df.groupby(['Team','Year']).groups)"
   ]
  },
  {
   "cell_type": "code",
   "execution_count": 6,
   "metadata": {
    "collapsed": false
   },
   "outputs": [
    {
     "name": "stdout",
     "output_type": "stream",
     "text": [
      "2014\n",
      "   Points  Rank    Team  Year\n",
      "0     876     1  Riders  2014\n",
      "2     863     2  Devils  2014\n",
      "4     741     3   Kings  2014\n",
      "9     701     4  Royals  2014\n",
      "2015\n",
      "    Points  Rank    Team  Year\n",
      "1      789     2  Riders  2015\n",
      "3      673     3  Devils  2015\n",
      "5      812     4   kings  2015\n",
      "10     804     1  Royals  2015\n",
      "2016\n",
      "   Points  Rank    Team  Year\n",
      "6     756     1   Kings  2016\n",
      "8     694     2  Riders  2016\n",
      "2017\n",
      "    Points  Rank    Team  Year\n",
      "7      788     1   Kings  2017\n",
      "11     690     2  Riders  2017\n"
     ]
    }
   ],
   "source": [
    "ipl_data = {'Team': ['Riders', 'Riders', 'Devils', 'Devils', 'Kings',\n",
    "         'kings', 'Kings', 'Kings', 'Riders', 'Royals', 'Royals', 'Riders'],\n",
    "         'Rank': [1, 2, 2, 3, 3,4 ,1 ,1,2 , 4,1,2],\n",
    "         'Year': [2014,2015,2014,2015,2014,2015,2016,2017,2016,2014,2015,2017],\n",
    "         'Points':[876,789,863,673,741,812,756,788,694,701,804,690]}\n",
    "df = pd.DataFrame(ipl_data)\n",
    "\n",
    "grouped = df.groupby('Year')\n",
    "\n",
    "for name,group in grouped:\n",
    "    print (name)\n",
    "    print (group)"
   ]
  },
  {
   "cell_type": "code",
   "execution_count": 7,
   "metadata": {
    "collapsed": false
   },
   "outputs": [
    {
     "name": "stdout",
     "output_type": "stream",
     "text": [
      "   Points  Rank    Team  Year\n",
      "0     876     1  Riders  2014\n",
      "2     863     2  Devils  2014\n",
      "4     741     3   Kings  2014\n",
      "9     701     4  Royals  2014\n"
     ]
    }
   ],
   "source": [
    "grouped = df.groupby('Year')\n",
    "print (grouped.get_group(2014))"
   ]
  },
  {
   "cell_type": "code",
   "execution_count": 8,
   "metadata": {
    "collapsed": false
   },
   "outputs": [
    {
     "name": "stdout",
     "output_type": "stream",
     "text": [
      "Year\n",
      "2014    795.25\n",
      "2015    769.50\n",
      "2016    725.00\n",
      "2017    739.00\n",
      "Name: Points, dtype: float64\n"
     ]
    }
   ],
   "source": [
    "grouped = df.groupby('Year')\n",
    "print (grouped['Points'].agg(np.mean))"
   ]
  },
  {
   "cell_type": "code",
   "execution_count": 9,
   "metadata": {
    "collapsed": false
   },
   "outputs": [
    {
     "name": "stdout",
     "output_type": "stream",
     "text": [
      "         sum        mean         std\n",
      "Team                                \n",
      "Devils  1536  768.000000  134.350288\n",
      "Kings   2285  761.666667   24.006943\n",
      "Riders  3049  762.250000   88.567771\n",
      "Royals  1505  752.500000   72.831998\n",
      "kings    812  812.000000         NaN\n"
     ]
    }
   ],
   "source": [
    "grouped = df.groupby('Team')\n",
    "print (grouped['Points'].agg([np.sum, np.mean, np.std]))"
   ]
  },
  {
   "cell_type": "code",
   "execution_count": 10,
   "metadata": {
    "collapsed": false
   },
   "outputs": [
    {
     "name": "stdout",
     "output_type": "stream",
     "text": [
      "       Points       Rank       Year\n",
      "0   12.843272 -15.000000 -11.618950\n",
      "1    3.020286   5.000000  -3.872983\n",
      "2    7.071068  -7.071068  -7.071068\n",
      "3   -7.071068   7.071068   7.071068\n",
      "4   -8.608621  11.547005 -10.910895\n",
      "5         NaN        NaN        NaN\n",
      "6   -2.360428  -5.773503   2.182179\n",
      "7   10.969049  -5.773503   8.728716\n",
      "8   -7.705963   5.000000   3.872983\n",
      "9   -7.071068   7.071068  -7.071068\n",
      "10   7.071068  -7.071068   7.071068\n",
      "11  -8.157595   5.000000  11.618950\n"
     ]
    }
   ],
   "source": [
    "grouped = df.groupby('Team')\n",
    "score = lambda x: (x - x.mean()) / x.std()*10\n",
    "print (grouped.transform(score))"
   ]
  },
  {
   "cell_type": "code",
   "execution_count": 13,
   "metadata": {
    "collapsed": false
   },
   "outputs": [
    {
     "name": "stdout",
     "output_type": "stream",
     "text": [
      "{'Riders': [0, 1, 8, 11], 'kings': [5], 'Royals': [9, 10], 'Devils': [2, 3], 'Kings': [4, 6, 7]}\n",
      "    Points  Rank    Team  Year\n",
      "0      876     1  Riders  2014\n",
      "1      789     2  Riders  2015\n",
      "4      741     3   Kings  2014\n",
      "6      756     1   Kings  2016\n",
      "7      788     1   Kings  2017\n",
      "8      694     2  Riders  2016\n",
      "11     690     2  Riders  2017\n"
     ]
    }
   ],
   "source": [
    "df = pd.DataFrame(ipl_data)\n",
    "print(df.groupby('Team').groups)\n",
    "print (df.groupby('Team').filter(lambda x: len(x) >= 3))"
   ]
  },
  {
   "cell_type": "code",
   "execution_count": 14,
   "metadata": {
    "collapsed": false
   },
   "outputs": [
    {
     "name": "stdout",
     "output_type": "stream",
     "text": [
      "   Marks_scored    Name subject_id\n",
      "1            98    Alex       sub1\n",
      "2            90     Amy       sub2\n",
      "3            87   Allen       sub4\n",
      "4            69   Alice       sub6\n",
      "5            78  Ayoung       sub5\n",
      "1            89   Billy       sub2\n",
      "2            80   Brian       sub4\n",
      "3            79    Bran       sub3\n",
      "4            97   Bryce       sub6\n",
      "5            88   Betty       sub5\n"
     ]
    }
   ],
   "source": [
    "import pandas as pd\n",
    "one = pd.DataFrame({\n",
    "         'Name': ['Alex', 'Amy', 'Allen', 'Alice', 'Ayoung'],\n",
    "         'subject_id':['sub1','sub2','sub4','sub6','sub5'],\n",
    "         'Marks_scored':[98,90,87,69,78]},\n",
    "         index=[1,2,3,4,5])\n",
    "two = pd.DataFrame({\n",
    "         'Name': ['Billy', 'Brian', 'Bran', 'Bryce', 'Betty'],\n",
    "         'subject_id':['sub2','sub4','sub3','sub6','sub5'],\n",
    "         'Marks_scored':[89,80,79,97,88]},\n",
    "         index=[1,2,3,4,5])\n",
    "print( pd.concat([one,two]))"
   ]
  },
  {
   "cell_type": "code",
   "execution_count": 15,
   "metadata": {
    "collapsed": false
   },
   "outputs": [
    {
     "name": "stdout",
     "output_type": "stream",
     "text": [
      "     Marks_scored    Name subject_id\n",
      "x 1            98    Alex       sub1\n",
      "  2            90     Amy       sub2\n",
      "  3            87   Allen       sub4\n",
      "  4            69   Alice       sub6\n",
      "  5            78  Ayoung       sub5\n",
      "y 1            89   Billy       sub2\n",
      "  2            80   Brian       sub4\n",
      "  3            79    Bran       sub3\n",
      "  4            97   Bryce       sub6\n",
      "  5            88   Betty       sub5\n"
     ]
    }
   ],
   "source": [
    "print (pd.concat([one,two],keys=['x','y']))"
   ]
  },
  {
   "cell_type": "code",
   "execution_count": 16,
   "metadata": {
    "collapsed": false
   },
   "outputs": [
    {
     "name": "stdout",
     "output_type": "stream",
     "text": [
      "   Marks_scored    Name subject_id\n",
      "0            98    Alex       sub1\n",
      "1            90     Amy       sub2\n",
      "2            87   Allen       sub4\n",
      "3            69   Alice       sub6\n",
      "4            78  Ayoung       sub5\n",
      "5            89   Billy       sub2\n",
      "6            80   Brian       sub4\n",
      "7            79    Bran       sub3\n",
      "8            97   Bryce       sub6\n",
      "9            88   Betty       sub5\n"
     ]
    }
   ],
   "source": [
    "print (pd.concat([one,two],keys=['x','y'],ignore_index=True))#If the resultant object has to follow its own indexing, set ignore_index to True."
   ]
  },
  {
   "cell_type": "code",
   "execution_count": 17,
   "metadata": {
    "collapsed": false
   },
   "outputs": [
    {
     "name": "stdout",
     "output_type": "stream",
     "text": [
      "   Marks_scored    Name subject_id  Marks_scored   Name subject_id\n",
      "1            98    Alex       sub1            89  Billy       sub2\n",
      "2            90     Amy       sub2            80  Brian       sub4\n",
      "3            87   Allen       sub4            79   Bran       sub3\n",
      "4            69   Alice       sub6            97  Bryce       sub6\n",
      "5            78  Ayoung       sub5            88  Betty       sub5\n"
     ]
    }
   ],
   "source": [
    "print (pd.concat([one,two],axis=1))"
   ]
  },
  {
   "cell_type": "code",
   "execution_count": 18,
   "metadata": {
    "collapsed": false
   },
   "outputs": [
    {
     "name": "stdout",
     "output_type": "stream",
     "text": [
      "   Marks_scored    Name subject_id\n",
      "1            98    Alex       sub1\n",
      "2            90     Amy       sub2\n",
      "3            87   Allen       sub4\n",
      "4            69   Alice       sub6\n",
      "5            78  Ayoung       sub5\n",
      "1            89   Billy       sub2\n",
      "2            80   Brian       sub4\n",
      "3            79    Bran       sub3\n",
      "4            97   Bryce       sub6\n",
      "5            88   Betty       sub5\n"
     ]
    }
   ],
   "source": [
    "print(one.append(two))"
   ]
  },
  {
   "cell_type": "code",
   "execution_count": 19,
   "metadata": {
    "collapsed": false
   },
   "outputs": [
    {
     "name": "stdout",
     "output_type": "stream",
     "text": [
      "   Marks_scored    Name subject_id\n",
      "0            98    Alex       sub1\n",
      "1            90     Amy       sub2\n",
      "2            87   Allen       sub4\n",
      "3            69   Alice       sub6\n",
      "4            78  Ayoung       sub5\n",
      "5            89   Billy       sub2\n",
      "6            80   Brian       sub4\n",
      "7            79    Bran       sub3\n",
      "8            97   Bryce       sub6\n",
      "9            88   Betty       sub5\n"
     ]
    }
   ],
   "source": [
    "print(one.append(two,ignore_index=True))"
   ]
  },
  {
   "cell_type": "code",
   "execution_count": null,
   "metadata": {
    "collapsed": true
   },
   "outputs": [],
   "source": []
  }
 ],
 "metadata": {
  "kernelspec": {
   "display_name": "Python [default]",
   "language": "python",
   "name": "python3"
  },
  "language_info": {
   "codemirror_mode": {
    "name": "ipython",
    "version": 3
   },
   "file_extension": ".py",
   "mimetype": "text/x-python",
   "name": "python",
   "nbconvert_exporter": "python",
   "pygments_lexer": "ipython3",
   "version": "3.5.2"
  }
 },
 "nbformat": 4,
 "nbformat_minor": 1
}
