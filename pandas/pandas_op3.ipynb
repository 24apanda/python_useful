{
 "cells": [
  {
   "cell_type": "code",
   "execution_count": 17,
   "metadata": {
    "collapsed": false
   },
   "outputs": [
    {
     "data": {
      "text/html": [
       "<div>\n",
       "<table border=\"1\" class=\"dataframe\">\n",
       "  <thead>\n",
       "    <tr style=\"text-align: right;\">\n",
       "      <th></th>\n",
       "      <th>A</th>\n",
       "      <th>B</th>\n",
       "      <th>C</th>\n",
       "      <th>D</th>\n",
       "    </tr>\n",
       "  </thead>\n",
       "  <tbody>\n",
       "    <tr>\n",
       "      <th>a</th>\n",
       "      <td>0.938218</td>\n",
       "      <td>-0.491243</td>\n",
       "      <td>0.994178</td>\n",
       "      <td>0.184465</td>\n",
       "    </tr>\n",
       "    <tr>\n",
       "      <th>b</th>\n",
       "      <td>0.741894</td>\n",
       "      <td>0.291410</td>\n",
       "      <td>0.517246</td>\n",
       "      <td>0.809042</td>\n",
       "    </tr>\n",
       "    <tr>\n",
       "      <th>c</th>\n",
       "      <td>-1.520840</td>\n",
       "      <td>0.235622</td>\n",
       "      <td>0.249783</td>\n",
       "      <td>-0.471090</td>\n",
       "    </tr>\n",
       "    <tr>\n",
       "      <th>d</th>\n",
       "      <td>1.903386</td>\n",
       "      <td>-0.666342</td>\n",
       "      <td>-0.232651</td>\n",
       "      <td>0.751540</td>\n",
       "    </tr>\n",
       "    <tr>\n",
       "      <th>e</th>\n",
       "      <td>1.885721</td>\n",
       "      <td>0.443781</td>\n",
       "      <td>0.693360</td>\n",
       "      <td>1.549884</td>\n",
       "    </tr>\n",
       "    <tr>\n",
       "      <th>f</th>\n",
       "      <td>-2.862593</td>\n",
       "      <td>-1.293229</td>\n",
       "      <td>0.678105</td>\n",
       "      <td>-0.709276</td>\n",
       "    </tr>\n",
       "    <tr>\n",
       "      <th>g</th>\n",
       "      <td>-1.967489</td>\n",
       "      <td>-0.447157</td>\n",
       "      <td>0.176480</td>\n",
       "      <td>-0.480945</td>\n",
       "    </tr>\n",
       "    <tr>\n",
       "      <th>h</th>\n",
       "      <td>1.097327</td>\n",
       "      <td>-1.240731</td>\n",
       "      <td>-0.102046</td>\n",
       "      <td>0.298177</td>\n",
       "    </tr>\n",
       "  </tbody>\n",
       "</table>\n",
       "</div>"
      ],
      "text/plain": [
       "          A         B         C         D\n",
       "a  0.938218 -0.491243  0.994178  0.184465\n",
       "b  0.741894  0.291410  0.517246  0.809042\n",
       "c -1.520840  0.235622  0.249783 -0.471090\n",
       "d  1.903386 -0.666342 -0.232651  0.751540\n",
       "e  1.885721  0.443781  0.693360  1.549884\n",
       "f -2.862593 -1.293229  0.678105 -0.709276\n",
       "g -1.967489 -0.447157  0.176480 -0.480945\n",
       "h  1.097327 -1.240731 -0.102046  0.298177"
      ]
     },
     "execution_count": 17,
     "metadata": {},
     "output_type": "execute_result"
    }
   ],
   "source": [
    "'''loc takes two single/list/range operator separated by ','. \n",
    "The first one indicates the row and the second one indicates columns.'''\n",
    "\n",
    "import pandas as pd\n",
    "import numpy as np\n",
    "\n",
    "df = pd.DataFrame(np.random.randn(8, 4),\n",
    "index = ['a','b','c','d','e','f','g','h'], columns = ['A', 'B', 'C', 'D'])\n",
    "df"
   ]
  },
  {
   "cell_type": "code",
   "execution_count": 3,
   "metadata": {
    "collapsed": false
   },
   "outputs": [
    {
     "name": "stdout",
     "output_type": "stream",
     "text": [
      "a    0.690395\n",
      "b   -1.678159\n",
      "c   -0.403143\n",
      "d   -0.770828\n",
      "e    0.306652\n",
      "f   -0.021574\n",
      "g    1.513787\n",
      "h    0.515991\n",
      "Name: A, dtype: float64\n"
     ]
    }
   ],
   "source": [
    "print(df.loc[:,'A'])"
   ]
  },
  {
   "cell_type": "code",
   "execution_count": 6,
   "metadata": {
    "collapsed": false
   },
   "outputs": [
    {
     "name": "stdout",
     "output_type": "stream",
     "text": [
      "          A         C\n",
      "a  0.690395  0.643460\n",
      "b -1.678159  0.040739\n",
      "c -0.403143 -0.018621\n",
      "d -0.770828 -0.272646\n",
      "e  0.306652  0.286458\n",
      "f -0.021574  0.233591\n",
      "g  1.513787 -1.303292\n",
      "h  0.515991 -0.312607\n"
     ]
    }
   ],
   "source": [
    "print(df.loc[:,['A','C']])"
   ]
  },
  {
   "cell_type": "code",
   "execution_count": 7,
   "metadata": {
    "collapsed": false
   },
   "outputs": [
    {
     "name": "stdout",
     "output_type": "stream",
     "text": [
      "          A         C\n",
      "a  0.690395  0.643460\n",
      "e  0.306652  0.286458\n"
     ]
    }
   ],
   "source": [
    "print(df.loc[['a','e'],['A','C']])"
   ]
  },
  {
   "cell_type": "code",
   "execution_count": 8,
   "metadata": {
    "collapsed": false
   },
   "outputs": [
    {
     "name": "stdout",
     "output_type": "stream",
     "text": [
      "A     True\n",
      "B    False\n",
      "C     True\n",
      "D     True\n",
      "Name: a, dtype: bool\n"
     ]
    }
   ],
   "source": [
    "print( df.loc['a']>0)"
   ]
  },
  {
   "cell_type": "code",
   "execution_count": 18,
   "metadata": {
    "collapsed": false
   },
   "outputs": [
    {
     "name": "stdout",
     "output_type": "stream",
     "text": [
      "          A         B         C         D\n",
      "0  0.090757  0.321062  0.055699 -1.438512\n",
      "1 -1.062989  0.993624 -1.495027 -0.051468\n",
      "2  0.495791 -0.301036 -0.449335  0.632464\n",
      "3  0.999575  0.570847  0.860154  0.355943\n"
     ]
    }
   ],
   "source": [
    "'''.iloc()\n",
    "Pandas provide various methods in order to get purely integer based indexing. \n",
    "Like python and numpy, these are 0-based indexing.'''\n",
    "df = pd.DataFrame(np.random.randn(8, 4), columns = ['A', 'B', 'C', 'D'])\n",
    "\n",
    "# select all rows for a specific column\n",
    "print (df.iloc[:4])"
   ]
  },
  {
   "cell_type": "code",
   "execution_count": 19,
   "metadata": {
    "collapsed": false
   },
   "outputs": [
    {
     "name": "stdout",
     "output_type": "stream",
     "text": [
      "          A         B         C         D\n",
      "0  0.090757  0.321062  0.055699 -1.438512\n",
      "1 -1.062989  0.993624 -1.495027 -0.051468\n",
      "2  0.495791 -0.301036 -0.449335  0.632464\n",
      "3  0.999575  0.570847  0.860154  0.355943\n",
      "4  0.760922 -1.391845 -0.756762  0.149696\n"
     ]
    }
   ],
   "source": [
    "print (df.iloc[0:5, 0:4])"
   ]
  },
  {
   "cell_type": "code",
   "execution_count": 20,
   "metadata": {
    "collapsed": false
   },
   "outputs": [
    {
     "name": "stdout",
     "output_type": "stream",
     "text": [
      "True\n"
     ]
    }
   ],
   "source": [
    "print( df.iloc[1,1]>0)"
   ]
  },
  {
   "cell_type": "code",
   "execution_count": 22,
   "metadata": {
    "collapsed": false
   },
   "outputs": [
    {
     "name": "stdout",
     "output_type": "stream",
     "text": [
      "0         NaN\n",
      "1    1.000000\n",
      "2    0.500000\n",
      "3    0.333333\n",
      "4    0.250000\n",
      "5   -0.200000\n",
      "dtype: float64\n",
      "          0          1\n",
      "0       NaN        NaN\n",
      "1 -2.201507 -18.196833\n",
      "2 -1.723469  -1.392988\n",
      "3  0.379644   2.138893\n",
      "4 -0.782219  -1.480193\n",
      "    0         1\n",
      "0 NaN -0.924092\n",
      "1 NaN  0.086443\n",
      "2 NaN -0.409845\n",
      "3 NaN  0.342690\n",
      "4 NaN -3.960543\n"
     ]
    }
   ],
   "source": [
    "import pandas as pd\n",
    "import numpy as np\n",
    "s = pd.Series([1,2,3,4,5,4])\n",
    "print (s.pct_change())\n",
    "\n",
    "df = pd.DataFrame(np.random.randn(5, 2))\n",
    "print (df.pct_change())\n",
    "print (df.pct_change(axis=1))"
   ]
  },
  {
   "cell_type": "code",
   "execution_count": 23,
   "metadata": {
    "collapsed": false
   },
   "outputs": [
    {
     "name": "stdout",
     "output_type": "stream",
     "text": [
      "0.154144957673\n"
     ]
    }
   ],
   "source": [
    "import pandas as pd\n",
    "import numpy as np\n",
    "s1 = pd.Series(np.random.randn(10))\n",
    "s2 = pd.Series(np.random.randn(10))\n",
    "print (s1.cov(s2))"
   ]
  },
  {
   "cell_type": "code",
   "execution_count": 25,
   "metadata": {
    "collapsed": false
   },
   "outputs": [
    {
     "name": "stdout",
     "output_type": "stream",
     "text": [
      "-0.00510085909234\n",
      "          a         b         c         d         e\n",
      "a  0.572633 -0.005101 -0.008056  0.140118 -0.098797\n",
      "b -0.005101  1.161171  0.296054  0.134699  0.090919\n",
      "c -0.008056  0.296054  0.703226 -0.099041  0.099250\n",
      "d  0.140118  0.134699 -0.099041  1.324631 -0.157687\n",
      "e -0.098797  0.090919  0.099250 -0.157687  0.712048\n"
     ]
    }
   ],
   "source": [
    "import pandas as pd\n",
    "import numpy as np\n",
    "frame = pd.DataFrame(np.random.randn(10, 5), columns=['a', 'b', 'c', 'd', 'e'])\n",
    "print (frame['a'].cov(frame['b']))\n",
    "print (frame.cov())"
   ]
  },
  {
   "cell_type": "code",
   "execution_count": 26,
   "metadata": {
    "collapsed": false
   },
   "outputs": [
    {
     "name": "stdout",
     "output_type": "stream",
     "text": [
      "0.278673042553\n",
      "          a         b         c         d         e\n",
      "a  1.000000  0.278673  0.234381  0.541319 -0.297828\n",
      "b  0.278673  1.000000  0.582355  0.115619  0.005412\n",
      "c  0.234381  0.582355  1.000000 -0.291839  0.355327\n",
      "d  0.541319  0.115619 -0.291839  1.000000 -0.101910\n",
      "e -0.297828  0.005412  0.355327 -0.101910  1.000000\n"
     ]
    }
   ],
   "source": [
    "import pandas as pd\n",
    "import numpy as np\n",
    "frame = pd.DataFrame(np.random.randn(10, 5), columns=['a', 'b', 'c', 'd', 'e'])\n",
    "\n",
    "print (frame['a'].corr(frame['b']))\n",
    "\n",
    "print (frame.corr())"
   ]
  },
  {
   "cell_type": "code",
   "execution_count": 27,
   "metadata": {
    "collapsed": false
   },
   "outputs": [
    {
     "name": "stdout",
     "output_type": "stream",
     "text": [
      "a    1.0\n",
      "b    2.5\n",
      "c    4.0\n",
      "d    2.5\n",
      "e    5.0\n",
      "dtype: float64\n"
     ]
    }
   ],
   "source": [
    "s = pd.Series(np.random.np.random.randn(5), index=list('abcde'))\n",
    "\n",
    "s['d'] = s['b'] # so there's a tie\n",
    "\n",
    "print (s.rank())"
   ]
  },
  {
   "cell_type": "code",
   "execution_count": 29,
   "metadata": {
    "collapsed": false
   },
   "outputs": [
    {
     "name": "stdout",
     "output_type": "stream",
     "text": [
      "                   A         B         C         D\n",
      "2000-01-01       NaN       NaN       NaN       NaN\n",
      "2000-01-02       NaN       NaN       NaN       NaN\n",
      "2000-01-03 -0.775214  0.049032 -0.112769  0.639800\n",
      "2000-01-04 -1.196993 -0.436755  0.425897  0.700570\n",
      "2000-01-05 -1.474059 -0.711747  0.368900 -0.312155\n",
      "2000-01-06 -0.312836 -0.516355  0.497960  0.839856\n",
      "2000-01-07  0.156899  0.280085 -0.160295  1.367338\n",
      "2000-01-08 -0.120011 -0.495326  0.342128  1.515890\n",
      "2000-01-09 -0.445271 -0.361516  0.429930  0.574755\n",
      "2000-01-10 -0.656794 -0.357082  0.764565  0.489417\n"
     ]
    }
   ],
   "source": [
    "'''.rolling() Function\n",
    "This function can be applied on a series of data. \n",
    "Specify the window=n argument and apply the appropriate statistical function on top of it.'''\n",
    "\n",
    "df = pd.DataFrame(np.random.randn(10, 4),\n",
    "index = pd.date_range('1/1/2000', periods=10),\n",
    "columns = ['A', 'B', 'C', 'D'])\n",
    "\n",
    "print (df.rolling(window=3).mean())\n",
    "\n",
    "'''Note − Since the window size is 3, for first two elements there are nulls and from third the value will \n",
    "be the average of the n, n-1 and n-2 elements. Thus we can also apply various functions as mentioned above.'''"
   ]
  },
  {
   "cell_type": "code",
   "execution_count": 30,
   "metadata": {
    "collapsed": false
   },
   "outputs": [
    {
     "name": "stdout",
     "output_type": "stream",
     "text": [
      "                   A         B         C         D\n",
      "2000-01-01       NaN       NaN       NaN       NaN\n",
      "2000-01-02       NaN       NaN       NaN       NaN\n",
      "2000-01-03 -0.913337  0.155405  0.550193  0.122371\n",
      "2000-01-04 -0.617042  0.323735  0.379648 -0.061534\n",
      "2000-01-05 -0.444244  0.276287  0.545307 -0.100082\n",
      "2000-01-06 -0.347482  0.126368  0.247688  0.049866\n",
      "2000-01-07 -0.370236 -0.190720  0.076042  0.188593\n",
      "2000-01-08 -0.338809 -0.253120 -0.121077  0.120245\n",
      "2000-01-09 -0.283883 -0.267650  0.020715 -0.042836\n",
      "2000-01-10 -0.221057 -0.152129 -0.138484  0.187038\n"
     ]
    }
   ],
   "source": [
    "'''expanding() Function\n",
    "This function can be applied on a series of data. \n",
    "Specify the min_periods=n argument and apply the appropriate statistical function on top of it.'''\n",
    "\n",
    "df = pd.DataFrame(np.random.randn(10, 4),\n",
    "      index = pd.date_range('1/1/2000', periods=10),\n",
    "      columns = ['A', 'B', 'C', 'D'])\n",
    "print (df.expanding(min_periods=3).mean())"
   ]
  },
  {
   "cell_type": "code",
   "execution_count": 31,
   "metadata": {
    "collapsed": false
   },
   "outputs": [
    {
     "name": "stdout",
     "output_type": "stream",
     "text": [
      "                   A         B         C         D\n",
      "2000-01-01  0.950533 -0.103910 -2.001636 -0.724095\n",
      "2000-01-02 -0.074310 -0.346786 -0.712836  1.708802\n",
      "2000-01-03 -0.867412 -0.611011 -0.697113  0.011630\n",
      "2000-01-04 -0.213893  0.013386 -0.070020  0.067223\n",
      "2000-01-05 -0.374372 -0.045533 -0.156622 -1.494818\n",
      "2000-01-06  0.290784  1.449462  0.919307 -0.100387\n",
      "2000-01-07  0.954791 -0.744669 -0.115827 -0.105897\n",
      "2000-01-08  1.503117  0.031778 -0.679975 -0.091906\n",
      "2000-01-09  0.495979 -1.054553 -0.346743 -0.062245\n",
      "2000-01-10  0.132111  0.451089  1.234818  0.243534\n"
     ]
    }
   ],
   "source": [
    "'''ewm is applied on a series of data. Specify any of the com, span,\n",
    "halflife argument and apply the appropriate statistical function on top of it. It assigns the weights exponentially.'''\n",
    "\n",
    "df = pd.DataFrame(np.random.randn(10, 4),\n",
    "   index = pd.date_range('1/1/2000', periods=10),\n",
    "   columns = ['A', 'B', 'C', 'D'])\n",
    "print (df.ewm(com=0.5).mean())"
   ]
  },
  {
   "cell_type": "code",
   "execution_count": 32,
   "metadata": {
    "collapsed": false
   },
   "outputs": [
    {
     "name": "stdout",
     "output_type": "stream",
     "text": [
      "                   A         B         C         D\n",
      "2000-01-01  0.260108  0.530836 -1.135196 -1.063080\n",
      "2000-01-02  0.562371  0.266507 -0.232320 -0.470225\n",
      "2000-01-03  0.142731 -0.228246 -1.258454 -0.190083\n",
      "2000-01-04  0.479392  0.666416  0.275441  0.699228\n",
      "2000-01-05  2.033856 -0.340283 -0.096374 -0.626363\n",
      "2000-01-06 -0.064008  1.759180  1.656464  0.432259\n",
      "2000-01-07 -0.860600  0.135698 -0.062125 -0.393205\n",
      "2000-01-08  0.601320  0.485276 -0.195312 -1.003852\n",
      "2000-01-09 -0.741317 -0.070630 -0.036523 -0.211565\n",
      "2000-01-10 -1.334905  1.302707  0.691434 -1.177424\n",
      "Rolling [window=3,min_periods=1,center=False,axis=0]\n"
     ]
    }
   ],
   "source": [
    "\n",
    "df = pd.DataFrame(np.random.randn(10, 4),\n",
    "      index = pd.date_range('1/1/2000', periods=10),\n",
    "      columns = ['A', 'B', 'C', 'D'])\n",
    "\n",
    "print (df)\n",
    "\n",
    "r = df.rolling(window=3,min_periods=1)\n",
    "print (r)"
   ]
  },
  {
   "cell_type": "code",
   "execution_count": 33,
   "metadata": {
    "collapsed": false
   },
   "outputs": [
    {
     "name": "stdout",
     "output_type": "stream",
     "text": [
      "                   A         B         C         D\n",
      "2000-01-01 -2.364856 -1.235470 -0.038677 -0.972642\n",
      "2000-01-02 -0.510337 -0.505340 -1.758235 -0.089445\n",
      "2000-01-03  0.962278 -0.752161  0.378306 -0.148262\n",
      "2000-01-04 -1.729194 -0.634822 -1.319159 -0.606449\n",
      "2000-01-05 -0.790633  0.325934 -0.229201  0.053835\n",
      "2000-01-06 -0.751155  1.014271  1.092663 -1.270451\n",
      "2000-01-07  0.313371 -1.979664 -0.144766  0.659211\n",
      "2000-01-08 -0.795138  0.755920 -2.623138  0.976814\n",
      "2000-01-09  0.639285 -0.875100  1.593694  0.885344\n",
      "2000-01-10  1.181540  0.101895  0.703720 -0.144965\n",
      "                   A         B         C         D\n",
      "2000-01-01 -2.364856 -1.235470 -0.038677 -0.972642\n",
      "2000-01-02 -2.875194 -1.740810 -1.796912 -1.062087\n",
      "2000-01-03 -1.912915 -2.492971 -1.418606 -1.210348\n",
      "2000-01-04 -1.277253 -1.892323 -2.699088 -0.844155\n",
      "2000-01-05 -1.557549 -1.061048 -1.170053 -0.700875\n",
      "2000-01-06 -3.270982  0.705384 -0.455697 -1.823065\n",
      "2000-01-07 -1.228417 -0.639459  0.718696 -0.557405\n",
      "2000-01-08 -1.232922 -0.209473 -1.675241  0.365574\n",
      "2000-01-09  0.157518 -2.098843 -1.174210  2.521369\n",
      "2000-01-10  1.025686 -0.017284 -0.325723  1.717193\n"
     ]
    }
   ],
   "source": [
    "df = pd.DataFrame(np.random.randn(10, 4),\n",
    "      index = pd.date_range('1/1/2000', periods=10),\n",
    "      columns = ['A', 'B', 'C', 'D'])\n",
    "print (df)\n",
    "\n",
    "r = df.rolling(window=3,min_periods=1)\n",
    "print (r.aggregate(np.sum))"
   ]
  },
  {
   "cell_type": "code",
   "execution_count": 34,
   "metadata": {
    "collapsed": false
   },
   "outputs": [
    {
     "name": "stdout",
     "output_type": "stream",
     "text": [
      "                   A         B         C         D\n",
      "2000-01-01 -0.010902 -1.212967 -1.170921  0.250304\n",
      "2000-01-02 -0.083163  0.932968 -1.549378  0.883162\n",
      "2000-01-03  1.453710 -1.616451  0.349539 -0.331539\n",
      "2000-01-04 -0.725158  1.425388 -1.351379  0.654752\n",
      "2000-01-05  0.473852  0.572309 -1.127922 -1.133813\n",
      "2000-01-06 -0.234990  0.997800  0.326625 -0.327733\n",
      "2000-01-07 -0.884606  0.147758 -1.298762  0.470427\n",
      "2000-01-08  0.084759  0.110392 -0.069664 -0.228511\n",
      "2000-01-09 -0.662992  0.688377 -1.337337 -0.850234\n",
      "2000-01-10 -0.592802  1.362761 -0.636759  0.868969\n",
      "2000-01-01   -0.010902\n",
      "2000-01-02   -0.094065\n",
      "2000-01-03    1.359645\n",
      "2000-01-04    0.645389\n",
      "2000-01-05    1.202404\n",
      "2000-01-06   -0.486296\n",
      "2000-01-07   -0.645744\n",
      "2000-01-08   -1.034837\n",
      "2000-01-09   -1.462839\n",
      "2000-01-10   -1.171034\n",
      "Freq: D, Name: A, dtype: float64\n"
     ]
    }
   ],
   "source": [
    "df = pd.DataFrame(np.random.randn(10, 4),\n",
    "      index = pd.date_range('1/1/2000', periods=10),\n",
    "      columns = ['A', 'B', 'C', 'D'])\n",
    "print (df)\n",
    "r = df.rolling(window=3,min_periods=1)\n",
    "print (r['A'].aggregate(np.sum))"
   ]
  },
  {
   "cell_type": "code",
   "execution_count": 35,
   "metadata": {
    "collapsed": false
   },
   "outputs": [
    {
     "name": "stdout",
     "output_type": "stream",
     "text": [
      "                   A         B\n",
      "2000-01-01 -0.010902 -1.212967\n",
      "2000-01-02 -0.094065 -0.280000\n",
      "2000-01-03  1.359645 -1.896451\n",
      "2000-01-04  0.645389  0.741904\n",
      "2000-01-05  1.202404  0.381245\n",
      "2000-01-06 -0.486296  2.995496\n",
      "2000-01-07 -0.645744  1.717867\n",
      "2000-01-08 -1.034837  1.255950\n",
      "2000-01-09 -1.462839  0.946527\n",
      "2000-01-10 -1.171034  2.161530\n"
     ]
    }
   ],
   "source": [
    "print (r[['A','B']].aggregate(np.sum))"
   ]
  },
  {
   "cell_type": "code",
   "execution_count": 36,
   "metadata": {
    "collapsed": false
   },
   "outputs": [
    {
     "name": "stdout",
     "output_type": "stream",
     "text": [
      "                 sum      mean\n",
      "2000-01-01 -0.010902 -0.010902\n",
      "2000-01-02 -0.094065 -0.047032\n",
      "2000-01-03  1.359645  0.453215\n",
      "2000-01-04  0.645389  0.215130\n",
      "2000-01-05  1.202404  0.400801\n",
      "2000-01-06 -0.486296 -0.162099\n",
      "2000-01-07 -0.645744 -0.215248\n",
      "2000-01-08 -1.034837 -0.344946\n",
      "2000-01-09 -1.462839 -0.487613\n",
      "2000-01-10 -1.171034 -0.390345\n"
     ]
    }
   ],
   "source": [
    "print(r['A'].aggregate([np.sum,np.mean]))"
   ]
  },
  {
   "cell_type": "code",
   "execution_count": 37,
   "metadata": {
    "collapsed": false
   },
   "outputs": [
    {
     "name": "stdout",
     "output_type": "stream",
     "text": [
      "                   B         A\n",
      "2000-01-01 -1.212967 -0.010902\n",
      "2000-01-02 -0.140000 -0.094065\n",
      "2000-01-03 -0.632150  1.359645\n",
      "2000-01-04  0.247301  0.645389\n",
      "2000-01-05  0.127082  1.202404\n",
      "2000-01-06  0.998499 -0.486296\n",
      "2000-01-07  0.572622 -0.645744\n",
      "2000-01-08  0.418650 -1.034837\n",
      "2000-01-09  0.315509 -1.462839\n",
      "2000-01-10  0.720510 -1.171034\n"
     ]
    }
   ],
   "source": [
    "print( r.aggregate({'A' : np.sum,'B' : np.mean}))"
   ]
  },
  {
   "cell_type": "code",
   "execution_count": 38,
   "metadata": {
    "collapsed": false
   },
   "outputs": [
    {
     "name": "stdout",
     "output_type": "stream",
     "text": [
      "        one       two     three\n",
      "a -0.417576 -1.930552 -0.663528\n",
      "b       NaN       NaN       NaN\n",
      "c  0.395271 -0.527392 -0.309685\n",
      "d       NaN       NaN       NaN\n",
      "e -0.778673 -0.044540  0.612676\n",
      "f -0.489944  0.062165 -0.632533\n",
      "g       NaN       NaN       NaN\n",
      "h  0.659442  1.383720  0.635372\n",
      "a    False\n",
      "b     True\n",
      "c    False\n",
      "d     True\n",
      "e    False\n",
      "f    False\n",
      "g     True\n",
      "h    False\n",
      "Name: one, dtype: bool\n"
     ]
    }
   ],
   "source": [
    "df = pd.DataFrame(np.random.randn(5, 3), index=['a', 'c', 'e', 'f',\n",
    "'h'],columns=['one', 'two', 'three'])\n",
    "\n",
    "df = df.reindex(['a', 'b', 'c', 'd', 'e', 'f', 'g', 'h'])\n",
    "print(df)\n",
    "\n",
    "print (df['one'].isnull())"
   ]
  },
  {
   "cell_type": "code",
   "execution_count": 39,
   "metadata": {
    "collapsed": false
   },
   "outputs": [
    {
     "name": "stdout",
     "output_type": "stream",
     "text": [
      "a     True\n",
      "b    False\n",
      "c     True\n",
      "d    False\n",
      "e     True\n",
      "f     True\n",
      "g    False\n",
      "h     True\n",
      "Name: one, dtype: bool\n"
     ]
    }
   ],
   "source": [
    "print (df['one'].notnull())"
   ]
  },
  {
   "cell_type": "code",
   "execution_count": 40,
   "metadata": {
    "collapsed": false
   },
   "outputs": [
    {
     "name": "stdout",
     "output_type": "stream",
     "text": [
      "-0.631479191577047\n"
     ]
    }
   ],
   "source": [
    "print (df['one'].sum())"
   ]
  },
  {
   "cell_type": "code",
   "execution_count": 41,
   "metadata": {
    "collapsed": false
   },
   "outputs": [
    {
     "name": "stdout",
     "output_type": "stream",
     "text": [
      "nan\n"
     ]
    }
   ],
   "source": [
    "df = pd.DataFrame(index=[0,1,2,3,4,5],columns=['one','two'])\n",
    "print (df['one'].sum())"
   ]
  },
  {
   "cell_type": "code",
   "execution_count": 42,
   "metadata": {
    "collapsed": false
   },
   "outputs": [
    {
     "name": "stdout",
     "output_type": "stream",
     "text": [
      "        one       two     three\n",
      "a  1.330639  1.194261 -1.505701\n",
      "b       NaN       NaN       NaN\n",
      "c -0.481251 -1.711516  2.384291\n",
      "NaN replaced with '0':\n",
      "        one       two     three\n",
      "a  1.330639  1.194261 -1.505701\n",
      "b  0.000000  0.000000  0.000000\n",
      "c -0.481251 -1.711516  2.384291\n"
     ]
    }
   ],
   "source": [
    "df = pd.DataFrame(np.random.randn(3, 3), index=['a', 'c', 'e'],columns=['one',\n",
    "'two', 'three'])\n",
    "df = df.reindex(['a', 'b', 'c'])\n",
    "print (df)\n",
    "print (\"NaN replaced with '0':\")\n",
    "print (df.fillna(0))"
   ]
  },
  {
   "cell_type": "code",
   "execution_count": 43,
   "metadata": {
    "collapsed": false
   },
   "outputs": [
    {
     "name": "stdout",
     "output_type": "stream",
     "text": [
      "        one       two     three\n",
      "a -1.013960  0.059222  0.426332\n",
      "b       NaN       NaN       NaN\n",
      "c -0.641857  0.569495 -0.800733\n",
      "d       NaN       NaN       NaN\n",
      "e -0.474524 -0.133004  0.866709\n",
      "f -1.704728 -0.042325  1.104565\n",
      "g       NaN       NaN       NaN\n",
      "h  0.481406  0.027212  1.100026\n",
      "        one       two     three\n",
      "a -1.013960  0.059222  0.426332\n",
      "c -0.641857  0.569495 -0.800733\n",
      "e -0.474524 -0.133004  0.866709\n",
      "f -1.704728 -0.042325  1.104565\n",
      "h  0.481406  0.027212  1.100026\n"
     ]
    }
   ],
   "source": [
    "df = pd.DataFrame(np.random.randn(5, 3), index=['a', 'c', 'e', 'f',\n",
    "'h'],columns=['one', 'two', 'three'])\n",
    "\n",
    "df = df.reindex(['a', 'b', 'c', 'd', 'e', 'f', 'g', 'h'])\n",
    "print(df)\n",
    "print (df.dropna())"
   ]
  },
  {
   "cell_type": "code",
   "execution_count": 44,
   "metadata": {
    "collapsed": false
   },
   "outputs": [
    {
     "name": "stdout",
     "output_type": "stream",
     "text": [
      "Empty DataFrame\n",
      "Columns: []\n",
      "Index: [a, b, c, d, e, f, g, h]\n"
     ]
    }
   ],
   "source": [
    "print (df.dropna(axis=1))"
   ]
  },
  {
   "cell_type": "code",
   "execution_count": 45,
   "metadata": {
    "collapsed": false
   },
   "outputs": [
    {
     "name": "stdout",
     "output_type": "stream",
     "text": [
      "   one  two\n",
      "0   10   10\n",
      "1   20    0\n",
      "2   30   30\n",
      "3   40   40\n",
      "4   50   50\n",
      "5   60   60\n"
     ]
    }
   ],
   "source": [
    "df = pd.DataFrame({'one':[10,20,30,40,50,2000],\n",
    "'two':[1000,0,30,40,50,60]})\n",
    "print (df.replace({1000:10,2000:60}))"
   ]
  },
  {
   "cell_type": "code",
   "execution_count": null,
   "metadata": {
    "collapsed": true
   },
   "outputs": [],
   "source": []
  }
 ],
 "metadata": {
  "anaconda-cloud": {},
  "kernelspec": {
   "display_name": "Python [default]",
   "language": "python",
   "name": "python3"
  },
  "language_info": {
   "codemirror_mode": {
    "name": "ipython",
    "version": 3
   },
   "file_extension": ".py",
   "mimetype": "text/x-python",
   "name": "python",
   "nbconvert_exporter": "python",
   "pygments_lexer": "ipython3",
   "version": "3.5.2"
  }
 },
 "nbformat": 4,
 "nbformat_minor": 1
}
