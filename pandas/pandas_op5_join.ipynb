{
 "cells": [
  {
   "cell_type": "code",
   "execution_count": 1,
   "metadata": {
    "collapsed": false
   },
   "outputs": [
    {
     "name": "stdout",
     "output_type": "stream",
     "text": [
      "     Name  id subject_id\n",
      "0    Alex   1       sub1\n",
      "1     Amy   2       sub2\n",
      "2   Allen   3       sub4\n",
      "3   Alice   4       sub6\n",
      "4  Ayoung   5       sub5\n",
      "    Name  id subject_id\n",
      "0  Billy   1       sub2\n",
      "1  Brian   2       sub4\n",
      "2   Bran   3       sub3\n",
      "3  Bryce   4       sub6\n",
      "4  Betty   5       sub5\n"
     ]
    }
   ],
   "source": [
    "import pandas as pd\n",
    "left = pd.DataFrame({\n",
    "         'id':[1,2,3,4,5],\n",
    "         'Name': ['Alex', 'Amy', 'Allen', 'Alice', 'Ayoung'],\n",
    "         'subject_id':['sub1','sub2','sub4','sub6','sub5']})\n",
    "right = pd.DataFrame(\n",
    "         {'id':[1,2,3,4,5],\n",
    "         'Name': ['Billy', 'Brian', 'Bran', 'Bryce', 'Betty'],\n",
    "         'subject_id':['sub2','sub4','sub3','sub6','sub5']})\n",
    "\n",
    "print (left)\n",
    "print (right)"
   ]
  },
  {
   "cell_type": "code",
   "execution_count": 2,
   "metadata": {
    "collapsed": false
   },
   "outputs": [
    {
     "name": "stdout",
     "output_type": "stream",
     "text": [
      "   Name_x  id subject_id_x Name_y subject_id_y\n",
      "0    Alex   1         sub1  Billy         sub2\n",
      "1     Amy   2         sub2  Brian         sub4\n",
      "2   Allen   3         sub4   Bran         sub3\n",
      "3   Alice   4         sub6  Bryce         sub6\n",
      "4  Ayoung   5         sub5  Betty         sub5\n"
     ]
    }
   ],
   "source": [
    "print (pd.merge(left,right,on='id'))"
   ]
  },
  {
   "cell_type": "code",
   "execution_count": 3,
   "metadata": {
    "collapsed": false
   },
   "outputs": [
    {
     "name": "stdout",
     "output_type": "stream",
     "text": [
      "   Name_x  id subject_id Name_y\n",
      "0   Alice   4       sub6  Bryce\n",
      "1  Ayoung   5       sub5  Betty\n"
     ]
    }
   ],
   "source": [
    "print (pd.merge(left,right,on=['id','subject_id']))"
   ]
  },
  {
   "cell_type": "code",
   "execution_count": 4,
   "metadata": {
    "collapsed": false
   },
   "outputs": [
    {
     "name": "stdout",
     "output_type": "stream",
     "text": [
      "   Name_x  id_x subject_id Name_y  id_y\n",
      "0    Alex     1       sub1    NaN   NaN\n",
      "1     Amy     2       sub2  Billy   1.0\n",
      "2   Allen     3       sub4  Brian   2.0\n",
      "3   Alice     4       sub6  Bryce   4.0\n",
      "4  Ayoung     5       sub5  Betty   5.0\n"
     ]
    }
   ],
   "source": [
    "print (pd.merge(left, right, on='subject_id', how='left'))"
   ]
  },
  {
   "cell_type": "code",
   "execution_count": 5,
   "metadata": {
    "collapsed": false
   },
   "outputs": [
    {
     "name": "stdout",
     "output_type": "stream",
     "text": [
      "   Name_x  id_x subject_id Name_y  id_y\n",
      "0     Amy     2       sub2  Billy     1\n",
      "1   Allen     3       sub4  Brian     2\n",
      "2   Alice     4       sub6  Bryce     4\n",
      "3  Ayoung     5       sub5  Betty     5\n"
     ]
    }
   ],
   "source": [
    "print (pd.merge(left, right, on='subject_id', how='inner'))"
   ]
  },
  {
   "cell_type": "code",
   "execution_count": null,
   "metadata": {
    "collapsed": true
   },
   "outputs": [],
   "source": []
  }
 ],
 "metadata": {
  "kernelspec": {
   "display_name": "Python [default]",
   "language": "python",
   "name": "python3"
  },
  "language_info": {
   "codemirror_mode": {
    "name": "ipython",
    "version": 3
   },
   "file_extension": ".py",
   "mimetype": "text/x-python",
   "name": "python",
   "nbconvert_exporter": "python",
   "pygments_lexer": "ipython3",
   "version": "3.5.2"
  }
 },
 "nbformat": 4,
 "nbformat_minor": 1
}
