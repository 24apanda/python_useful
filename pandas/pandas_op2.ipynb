{
 "cells": [
  {
   "cell_type": "code",
   "execution_count": 1,
   "metadata": {
    "collapsed": false
   },
   "outputs": [
    {
     "name": "stdout",
     "output_type": "stream",
     "text": [
      "            A       C           D     x         y\n",
      "0  2016-01-01  Medium  119.929088   0.0  0.271081\n",
      "1  2016-01-02  Medium  104.335212   1.0  0.395507\n",
      "2  2016-01-03  Medium   97.343847   2.0  0.738279\n",
      "3  2016-01-04    High   98.142130   3.0  0.006719\n",
      "4  2016-01-05    High  117.164329   4.0  0.545961\n",
      "5  2016-01-06    High  110.716844   5.0  0.143983\n",
      "6  2016-01-07    High   89.034195   6.0  0.186058\n",
      "7  2016-01-08     Low  105.546204   7.0  0.686139\n",
      "8  2016-01-09    High   97.422437   8.0  0.587370\n",
      "9  2016-01-10    High  116.710949   9.0  0.491377\n",
      "10 2016-01-11    High   96.710019  10.0  0.331327\n",
      "11 2016-01-12     Low  112.577342  11.0  0.540541\n",
      "12 2016-01-13  Medium   81.287191  12.0  0.001587\n",
      "13 2016-01-14     Low  116.077929  13.0  0.213480\n",
      "14 2016-01-15  Medium  124.244756  14.0  0.314636\n",
      "15 2016-01-16  Medium  113.209748  15.0  0.124419\n",
      "16 2016-01-17  Medium  118.188571  16.0  0.194151\n",
      "17 2016-01-18    High   84.059354  17.0  0.643194\n",
      "18 2016-01-19    High  102.596763  18.0  0.748022\n",
      "19 2016-01-20    High   98.851156  19.0  0.050351\n",
      "           A       C   B\n",
      "0 2016-01-01  Medium NaN\n",
      "2 2016-01-03  Medium NaN\n",
      "5 2016-01-06    High NaN\n"
     ]
    }
   ],
   "source": [
    "import pandas as pd\n",
    "import numpy as np\n",
    "\n",
    "N=20\n",
    "\n",
    "df = pd.DataFrame({\n",
    "   'A': pd.date_range(start='2016-01-01',periods=N,freq='D'),\n",
    "   'x': np.linspace(0,stop=N-1,num=N),\n",
    "   'y': np.random.rand(N),\n",
    "   'C': np.random.choice(['Low','Medium','High'],N).tolist(),\n",
    "   'D': np.random.normal(100, 10, size=(N)).tolist()\n",
    "})\n",
    "\n",
    "#reindex the DataFrame\n",
    "df_reindexed = df.reindex(index=[0,2,5], columns=['A', 'C', 'B'])\n",
    "print(df)\n",
    "print (df_reindexed)"
   ]
  },
  {
   "cell_type": "code",
   "execution_count": 5,
   "metadata": {
    "collapsed": false
   },
   "outputs": [
    {
     "name": "stdout",
     "output_type": "stream",
     "text": [
      "       col1      col2      col3\n",
      "0 -0.026382 -0.390049  0.187477\n",
      "1 -1.086444 -0.558319  1.576085\n",
      "2 -0.629586 -0.763390 -0.956858\n",
      "3 -0.012301  0.342245 -1.142816\n",
      "4  0.387775  0.787473 -0.678755\n",
      "5 -1.903438  0.646369 -1.158272\n",
      "6  1.062250  2.028207 -1.114161\n",
      "7 -0.223860 -0.286009  0.096541\n",
      "8 -0.990578 -1.410339 -0.377615\n",
      "9  1.043802 -1.220666 -0.162378\n",
      "       col1      col2      col3\n",
      "0  1.527445 -0.090855 -0.512165\n",
      "1  0.989729 -1.093395  0.213370\n",
      "2 -0.848678  0.386882  0.637086\n",
      "3  0.524560 -0.706909 -0.108877\n",
      "4  1.272620  1.653483  0.225613\n",
      "5 -0.638906 -2.751579 -0.684440\n",
      "6 -0.520678 -0.692653  0.090575\n",
      "       col1      col2      col3\n",
      "0 -0.026382 -0.390049  0.187477\n",
      "1 -1.086444 -0.558319  1.576085\n",
      "2 -0.629586 -0.763390 -0.956858\n",
      "3 -0.012301  0.342245 -1.142816\n",
      "4  0.387775  0.787473 -0.678755\n",
      "5 -1.903438  0.646369 -1.158272\n",
      "6  1.062250  2.028207 -1.114161\n"
     ]
    }
   ],
   "source": [
    "import pandas as pd\n",
    "import numpy as np\n",
    "\n",
    "df1 = pd.DataFrame(np.random.randn(10,3),columns=['col1','col2','col3'])\n",
    "df2 = pd.DataFrame(np.random.randn(7,3),columns=['col1','col2','col3'])\n",
    "print(df1)\n",
    "print(df2)\n",
    "df1 = df1.reindex_like(df2)\n",
    "print (df1)\n",
    "\n",
    "'''Note − Here, the df1 DataFrame is altered and reindexed like df2. \n",
    "The column names should be matched or else NAN will be added for the entire column label.'''"
   ]
  },
  {
   "cell_type": "code",
   "execution_count": 6,
   "metadata": {
    "collapsed": false
   },
   "outputs": [
    {
     "data": {
      "text/plain": [
       "'Filling while ReIndexing\\nreindex() takes an optional parameter method which is a filling method with values as follows −\\n\\npad/ffill − Fill values forward\\n\\nbfill/backfill − Fill values backward\\n\\nnearest − Fill from the nearest index values'"
      ]
     },
     "execution_count": 6,
     "metadata": {},
     "output_type": "execute_result"
    }
   ],
   "source": [
    "'''Filling while ReIndexing\n",
    "reindex() takes an optional parameter method which is a filling method with values as follows −\n",
    "\n",
    "pad/ffill − Fill values forward\n",
    "\n",
    "bfill/backfill − Fill values backward\n",
    "\n",
    "nearest − Fill from the nearest index values'''"
   ]
  },
  {
   "cell_type": "code",
   "execution_count": 8,
   "metadata": {
    "collapsed": false
   },
   "outputs": [
    {
     "name": "stdout",
     "output_type": "stream",
     "text": [
      "       col1      col2      col3\n",
      "0  0.485643  2.150910  0.651166\n",
      "1 -0.616606 -0.329111 -0.967868\n",
      "2       NaN       NaN       NaN\n",
      "3       NaN       NaN       NaN\n",
      "4       NaN       NaN       NaN\n",
      "5       NaN       NaN       NaN\n",
      "       col1      col2      col3\n",
      "0  0.485643  2.150910  0.651166\n",
      "1 -0.616606 -0.329111 -0.967868\n",
      "2 -0.616606 -0.329111 -0.967868\n",
      "3 -0.616606 -0.329111 -0.967868\n",
      "4 -0.616606 -0.329111 -0.967868\n",
      "5 -0.616606 -0.329111 -0.967868\n"
     ]
    }
   ],
   "source": [
    "df1 = pd.DataFrame(np.random.randn(6,3),columns=['col1','col2','col3'])\n",
    "df2 = pd.DataFrame(np.random.randn(2,3),columns=['col1','col2','col3'])\n",
    "\n",
    "print(df2.reindex_like(df1))\n",
    "print(df2.reindex_like(df1,method='ffill'))"
   ]
  },
  {
   "cell_type": "code",
   "execution_count": 10,
   "metadata": {
    "collapsed": false
   },
   "outputs": [
    {
     "name": "stdout",
     "output_type": "stream",
     "text": [
      "       col1      col2      col3\n",
      "0  0.485643  2.150910  0.651166\n",
      "1 -0.616606 -0.329111 -0.967868\n",
      "2 -0.616606 -0.329111 -0.967868\n",
      "3       NaN       NaN       NaN\n",
      "4       NaN       NaN       NaN\n",
      "5       NaN       NaN       NaN\n"
     ]
    }
   ],
   "source": [
    "print(df2.reindex_like(df1,method='ffill',limit=1))"
   ]
  },
  {
   "cell_type": "code",
   "execution_count": 16,
   "metadata": {
    "collapsed": false
   },
   "outputs": [
    {
     "name": "stdout",
     "output_type": "stream",
     "text": [
      "None\n"
     ]
    }
   ],
   "source": [
    "print (df1.rename(columns={'col1' : 'c1', 'col2' : 'c2'},\n",
    "index = {0 : 'apple', 1 : 'banana', 2 : 'durian'},inplace=True))"
   ]
  },
  {
   "cell_type": "code",
   "execution_count": 17,
   "metadata": {
    "collapsed": false
   },
   "outputs": [
    {
     "data": {
      "text/html": [
       "<div>\n",
       "<table border=\"1\" class=\"dataframe\">\n",
       "  <thead>\n",
       "    <tr style=\"text-align: right;\">\n",
       "      <th></th>\n",
       "      <th>c1</th>\n",
       "      <th>c2</th>\n",
       "      <th>col3</th>\n",
       "    </tr>\n",
       "  </thead>\n",
       "  <tbody>\n",
       "    <tr>\n",
       "      <th>apple</th>\n",
       "      <td>-0.768408</td>\n",
       "      <td>-0.711412</td>\n",
       "      <td>0.326652</td>\n",
       "    </tr>\n",
       "    <tr>\n",
       "      <th>banana</th>\n",
       "      <td>-0.597727</td>\n",
       "      <td>-0.375827</td>\n",
       "      <td>-0.476562</td>\n",
       "    </tr>\n",
       "    <tr>\n",
       "      <th>durian</th>\n",
       "      <td>1.193870</td>\n",
       "      <td>1.608003</td>\n",
       "      <td>-0.338956</td>\n",
       "    </tr>\n",
       "    <tr>\n",
       "      <th>3</th>\n",
       "      <td>0.156728</td>\n",
       "      <td>1.751662</td>\n",
       "      <td>0.744309</td>\n",
       "    </tr>\n",
       "    <tr>\n",
       "      <th>4</th>\n",
       "      <td>-0.967029</td>\n",
       "      <td>2.041186</td>\n",
       "      <td>-0.221064</td>\n",
       "    </tr>\n",
       "    <tr>\n",
       "      <th>5</th>\n",
       "      <td>-1.046594</td>\n",
       "      <td>-0.114266</td>\n",
       "      <td>-1.548652</td>\n",
       "    </tr>\n",
       "  </tbody>\n",
       "</table>\n",
       "</div>"
      ],
      "text/plain": [
       "              c1        c2      col3\n",
       "apple  -0.768408 -0.711412  0.326652\n",
       "banana -0.597727 -0.375827 -0.476562\n",
       "durian  1.193870  1.608003 -0.338956\n",
       "3       0.156728  1.751662  0.744309\n",
       "4      -0.967029  2.041186 -0.221064\n",
       "5      -1.046594 -0.114266 -1.548652"
      ]
     },
     "execution_count": 17,
     "metadata": {},
     "output_type": "execute_result"
    }
   ],
   "source": [
    "df1"
   ]
  },
  {
   "cell_type": "code",
   "execution_count": 18,
   "metadata": {
    "collapsed": false
   },
   "outputs": [
    {
     "name": "stdout",
     "output_type": "stream",
     "text": [
      "A\n",
      "C\n",
      "D\n",
      "x\n",
      "y\n"
     ]
    }
   ],
   "source": [
    "'''Iterating a DataFrame gives column names. Let us consider the following example to understand the same.'''\n",
    "N=20\n",
    "\n",
    "df = pd.DataFrame({\n",
    "    'A': pd.date_range(start='2016-01-01',periods=N,freq='D'),\n",
    "    'x': np.linspace(0,stop=N-1,num=N),\n",
    "    'y': np.random.rand(N),\n",
    "    'C': np.random.choice(['Low','Medium','High'],N).tolist(),\n",
    "    'D': np.random.normal(100, 10, size=(N)).tolist()\n",
    "    })\n",
    "\n",
    "for col in df:\n",
    "    print(col)"
   ]
  },
  {
   "cell_type": "code",
   "execution_count": 20,
   "metadata": {
    "collapsed": false
   },
   "outputs": [
    {
     "data": {
      "text/plain": [
       "'iteritems() − to iterate over the (key,value) pairs\\n\\niterrows() − iterate over the rows as (index,series) pairs\\n\\nitertuples() − iterate over the rows as namedtuples'"
      ]
     },
     "execution_count": 20,
     "metadata": {},
     "output_type": "execute_result"
    }
   ],
   "source": [
    "'''iteritems() − to iterate over the (key,value) pairs\n",
    "\n",
    "iterrows() − iterate over the rows as (index,series) pairs\n",
    "\n",
    "itertuples() − iterate over the rows as namedtuples'''"
   ]
  },
  {
   "cell_type": "code",
   "execution_count": 21,
   "metadata": {
    "collapsed": false
   },
   "outputs": [
    {
     "name": "stdout",
     "output_type": "stream",
     "text": [
      "A 0    2016-01-01\n",
      "1    2016-01-02\n",
      "2    2016-01-03\n",
      "3    2016-01-04\n",
      "4    2016-01-05\n",
      "5    2016-01-06\n",
      "6    2016-01-07\n",
      "7    2016-01-08\n",
      "8    2016-01-09\n",
      "9    2016-01-10\n",
      "10   2016-01-11\n",
      "11   2016-01-12\n",
      "12   2016-01-13\n",
      "13   2016-01-14\n",
      "14   2016-01-15\n",
      "15   2016-01-16\n",
      "16   2016-01-17\n",
      "17   2016-01-18\n",
      "18   2016-01-19\n",
      "19   2016-01-20\n",
      "Name: A, dtype: datetime64[ns]\n",
      "C 0       High\n",
      "1        Low\n",
      "2        Low\n",
      "3        Low\n",
      "4        Low\n",
      "5     Medium\n",
      "6        Low\n",
      "7       High\n",
      "8        Low\n",
      "9     Medium\n",
      "10       Low\n",
      "11      High\n",
      "12       Low\n",
      "13      High\n",
      "14    Medium\n",
      "15      High\n",
      "16      High\n",
      "17    Medium\n",
      "18       Low\n",
      "19       Low\n",
      "Name: C, dtype: object\n",
      "D 0      95.165779\n",
      "1     124.031582\n",
      "2      87.219724\n",
      "3      84.685316\n",
      "4     121.989813\n",
      "5      83.960532\n",
      "6      94.098654\n",
      "7     104.825683\n",
      "8      97.288628\n",
      "9      92.295275\n",
      "10     96.293873\n",
      "11     93.918843\n",
      "12    100.489264\n",
      "13    109.010124\n",
      "14    104.341168\n",
      "15    108.269690\n",
      "16     89.851644\n",
      "17     71.852701\n",
      "18    116.269071\n",
      "19    100.491242\n",
      "Name: D, dtype: float64\n",
      "x 0      0.0\n",
      "1      1.0\n",
      "2      2.0\n",
      "3      3.0\n",
      "4      4.0\n",
      "5      5.0\n",
      "6      6.0\n",
      "7      7.0\n",
      "8      8.0\n",
      "9      9.0\n",
      "10    10.0\n",
      "11    11.0\n",
      "12    12.0\n",
      "13    13.0\n",
      "14    14.0\n",
      "15    15.0\n",
      "16    16.0\n",
      "17    17.0\n",
      "18    18.0\n",
      "19    19.0\n",
      "Name: x, dtype: float64\n",
      "y 0     0.084521\n",
      "1     0.039899\n",
      "2     0.514788\n",
      "3     0.886765\n",
      "4     0.050973\n",
      "5     0.945622\n",
      "6     0.452240\n",
      "7     0.665492\n",
      "8     0.799171\n",
      "9     0.902278\n",
      "10    0.091342\n",
      "11    0.484243\n",
      "12    0.393246\n",
      "13    0.434667\n",
      "14    0.234245\n",
      "15    0.828637\n",
      "16    0.529580\n",
      "17    0.604545\n",
      "18    0.185068\n",
      "19    0.925845\n",
      "Name: y, dtype: float64\n"
     ]
    }
   ],
   "source": [
    "for key,value in df.iteritems():\n",
    "    print(key,value)"
   ]
  },
  {
   "cell_type": "code",
   "execution_count": 22,
   "metadata": {
    "collapsed": false
   },
   "outputs": [
    {
     "name": "stdout",
     "output_type": "stream",
     "text": [
      "0 A    2016-01-01 00:00:00\n",
      "C                   High\n",
      "D                95.1658\n",
      "x                      0\n",
      "y              0.0845213\n",
      "Name: 0, dtype: object\n",
      "1 A    2016-01-02 00:00:00\n",
      "C                    Low\n",
      "D                124.032\n",
      "x                      1\n",
      "y              0.0398987\n",
      "Name: 1, dtype: object\n",
      "2 A    2016-01-03 00:00:00\n",
      "C                    Low\n",
      "D                87.2197\n",
      "x                      2\n",
      "y               0.514788\n",
      "Name: 2, dtype: object\n",
      "3 A    2016-01-04 00:00:00\n",
      "C                    Low\n",
      "D                84.6853\n",
      "x                      3\n",
      "y               0.886765\n",
      "Name: 3, dtype: object\n",
      "4 A    2016-01-05 00:00:00\n",
      "C                    Low\n",
      "D                 121.99\n",
      "x                      4\n",
      "y              0.0509727\n",
      "Name: 4, dtype: object\n",
      "5 A    2016-01-06 00:00:00\n",
      "C                 Medium\n",
      "D                83.9605\n",
      "x                      5\n",
      "y               0.945622\n",
      "Name: 5, dtype: object\n",
      "6 A    2016-01-07 00:00:00\n",
      "C                    Low\n",
      "D                94.0987\n",
      "x                      6\n",
      "y                0.45224\n",
      "Name: 6, dtype: object\n",
      "7 A    2016-01-08 00:00:00\n",
      "C                   High\n",
      "D                104.826\n",
      "x                      7\n",
      "y               0.665492\n",
      "Name: 7, dtype: object\n",
      "8 A    2016-01-09 00:00:00\n",
      "C                    Low\n",
      "D                97.2886\n",
      "x                      8\n",
      "y               0.799171\n",
      "Name: 8, dtype: object\n",
      "9 A    2016-01-10 00:00:00\n",
      "C                 Medium\n",
      "D                92.2953\n",
      "x                      9\n",
      "y               0.902278\n",
      "Name: 9, dtype: object\n",
      "10 A    2016-01-11 00:00:00\n",
      "C                    Low\n",
      "D                96.2939\n",
      "x                     10\n",
      "y              0.0913417\n",
      "Name: 10, dtype: object\n",
      "11 A    2016-01-12 00:00:00\n",
      "C                   High\n",
      "D                93.9188\n",
      "x                     11\n",
      "y               0.484243\n",
      "Name: 11, dtype: object\n",
      "12 A    2016-01-13 00:00:00\n",
      "C                    Low\n",
      "D                100.489\n",
      "x                     12\n",
      "y               0.393246\n",
      "Name: 12, dtype: object\n",
      "13 A    2016-01-14 00:00:00\n",
      "C                   High\n",
      "D                 109.01\n",
      "x                     13\n",
      "y               0.434667\n",
      "Name: 13, dtype: object\n",
      "14 A    2016-01-15 00:00:00\n",
      "C                 Medium\n",
      "D                104.341\n",
      "x                     14\n",
      "y               0.234245\n",
      "Name: 14, dtype: object\n",
      "15 A    2016-01-16 00:00:00\n",
      "C                   High\n",
      "D                 108.27\n",
      "x                     15\n",
      "y               0.828637\n",
      "Name: 15, dtype: object\n",
      "16 A    2016-01-17 00:00:00\n",
      "C                   High\n",
      "D                89.8516\n",
      "x                     16\n",
      "y                0.52958\n",
      "Name: 16, dtype: object\n",
      "17 A    2016-01-18 00:00:00\n",
      "C                 Medium\n",
      "D                71.8527\n",
      "x                     17\n",
      "y               0.604545\n",
      "Name: 17, dtype: object\n",
      "18 A    2016-01-19 00:00:00\n",
      "C                    Low\n",
      "D                116.269\n",
      "x                     18\n",
      "y               0.185068\n",
      "Name: 18, dtype: object\n",
      "19 A    2016-01-20 00:00:00\n",
      "C                    Low\n",
      "D                100.491\n",
      "x                     19\n",
      "y               0.925845\n",
      "Name: 19, dtype: object\n"
     ]
    }
   ],
   "source": [
    "for row_index,row in df.iterrows():\n",
    "   print (row_index,row)"
   ]
  },
  {
   "cell_type": "code",
   "execution_count": 23,
   "metadata": {
    "collapsed": false
   },
   "outputs": [
    {
     "name": "stdout",
     "output_type": "stream",
     "text": [
      "Pandas(Index=0, A=Timestamp('2016-01-01 00:00:00'), C='High', D=95.165778646973934, x=0.0, y=0.084521334395262326)\n",
      "Pandas(Index=1, A=Timestamp('2016-01-02 00:00:00'), C='Low', D=124.03158176928522, x=1.0, y=0.03989871088467023)\n",
      "Pandas(Index=2, A=Timestamp('2016-01-03 00:00:00'), C='Low', D=87.219723841944329, x=2.0, y=0.51478785834248497)\n",
      "Pandas(Index=3, A=Timestamp('2016-01-04 00:00:00'), C='Low', D=84.685316016385258, x=3.0, y=0.88676523184167255)\n",
      "Pandas(Index=4, A=Timestamp('2016-01-05 00:00:00'), C='Low', D=121.98981285010859, x=4.0, y=0.050972699366246932)\n",
      "Pandas(Index=5, A=Timestamp('2016-01-06 00:00:00'), C='Medium', D=83.960531921008538, x=5.0, y=0.94562213154538932)\n",
      "Pandas(Index=6, A=Timestamp('2016-01-07 00:00:00'), C='Low', D=94.098653721789205, x=6.0, y=0.45224008822620521)\n",
      "Pandas(Index=7, A=Timestamp('2016-01-08 00:00:00'), C='High', D=104.82568325108593, x=7.0, y=0.66549180475326575)\n",
      "Pandas(Index=8, A=Timestamp('2016-01-09 00:00:00'), C='Low', D=97.28862820574011, x=8.0, y=0.79917065214781791)\n",
      "Pandas(Index=9, A=Timestamp('2016-01-10 00:00:00'), C='Medium', D=92.295274655402508, x=9.0, y=0.90227814521181293)\n",
      "Pandas(Index=10, A=Timestamp('2016-01-11 00:00:00'), C='Low', D=96.293873212623737, x=10.0, y=0.091341672109696348)\n",
      "Pandas(Index=11, A=Timestamp('2016-01-12 00:00:00'), C='High', D=93.91884343200995, x=11.0, y=0.48424260346947179)\n",
      "Pandas(Index=12, A=Timestamp('2016-01-13 00:00:00'), C='Low', D=100.4892644757155, x=12.0, y=0.39324638109920829)\n",
      "Pandas(Index=13, A=Timestamp('2016-01-14 00:00:00'), C='High', D=109.01012376975008, x=13.0, y=0.43466717548129929)\n",
      "Pandas(Index=14, A=Timestamp('2016-01-15 00:00:00'), C='Medium', D=104.34116767400587, x=14.0, y=0.2342451777328417)\n",
      "Pandas(Index=15, A=Timestamp('2016-01-16 00:00:00'), C='High', D=108.26968986977386, x=15.0, y=0.82863745881712647)\n",
      "Pandas(Index=16, A=Timestamp('2016-01-17 00:00:00'), C='High', D=89.851644472863882, x=16.0, y=0.52958037441503514)\n",
      "Pandas(Index=17, A=Timestamp('2016-01-18 00:00:00'), C='Medium', D=71.85270079534682, x=17.0, y=0.60454490057126165)\n",
      "Pandas(Index=18, A=Timestamp('2016-01-19 00:00:00'), C='Low', D=116.26907072088329, x=18.0, y=0.18506837374054774)\n",
      "Pandas(Index=19, A=Timestamp('2016-01-20 00:00:00'), C='Low', D=100.49124176191792, x=19.0, y=0.92584457447844293)\n"
     ]
    }
   ],
   "source": [
    "for row in df.itertuples():\n",
    "    print (row)"
   ]
  },
  {
   "cell_type": "code",
   "execution_count": 25,
   "metadata": {
    "collapsed": false
   },
   "outputs": [
    {
     "name": "stdout",
     "output_type": "stream",
     "text": [
      "       col2      col1\n",
      "0  2.246395  1.019663\n",
      "1 -0.192483  1.850460\n",
      "2  0.321544 -0.694686\n",
      "3 -1.235591 -1.060239\n",
      "4 -1.318198 -1.464894\n",
      "5  0.189412  1.011145\n",
      "6 -0.559491  0.933472\n",
      "7  0.711109  0.280525\n",
      "8 -0.370065 -0.439854\n",
      "9  1.773837 -1.134073\n"
     ]
    }
   ],
   "source": [
    "import pandas as pd\n",
    "import numpy as np\n",
    "\n",
    "unsorted_df = pd.DataFrame(np.random.randn(10,2),index=[1,4,6,2,3,5,9,8,0,7],columns = ['col2','col1'])\n",
    "\n",
    "sorted_df=unsorted_df.sort_index()\n",
    "print (sorted_df)"
   ]
  },
  {
   "cell_type": "code",
   "execution_count": 26,
   "metadata": {
    "collapsed": false
   },
   "outputs": [
    {
     "name": "stdout",
     "output_type": "stream",
     "text": [
      "       col2      col1\n",
      "9  1.773837 -1.134073\n",
      "8 -0.370065 -0.439854\n",
      "7  0.711109  0.280525\n",
      "6 -0.559491  0.933472\n",
      "5  0.189412  1.011145\n",
      "4 -1.318198 -1.464894\n",
      "3 -1.235591 -1.060239\n",
      "2  0.321544 -0.694686\n",
      "1 -0.192483  1.850460\n",
      "0  2.246395  1.019663\n"
     ]
    }
   ],
   "source": [
    "sorted_df=unsorted_df.sort_index(ascending=False)\n",
    "print (sorted_df)"
   ]
  },
  {
   "cell_type": "code",
   "execution_count": 27,
   "metadata": {
    "collapsed": false
   },
   "outputs": [
    {
     "name": "stdout",
     "output_type": "stream",
     "text": [
      "       col1      col2\n",
      "1  1.850460 -0.192483\n",
      "4 -1.464894 -1.318198\n",
      "6  0.933472 -0.559491\n",
      "2 -0.694686  0.321544\n",
      "3 -1.060239 -1.235591\n",
      "5  1.011145  0.189412\n",
      "9 -1.134073  1.773837\n",
      "8 -0.439854 -0.370065\n",
      "0  1.019663  2.246395\n",
      "7  0.280525  0.711109\n"
     ]
    }
   ],
   "source": [
    "sorted_df=unsorted_df.sort_index(axis=1)\n",
    "print (sorted_df)"
   ]
  },
  {
   "cell_type": "code",
   "execution_count": 31,
   "metadata": {
    "collapsed": false
   },
   "outputs": [
    {
     "name": "stdout",
     "output_type": "stream",
     "text": [
      "   col1  col2\n",
      "1     1     3\n",
      "2     1     2\n",
      "3     1     4\n",
      "0     2     1\n"
     ]
    }
   ],
   "source": [
    "unsorted_df = pd.DataFrame({'col1':[2,1,1,1],'col2':[1,3,2,4]})\n",
    "sorted_df = unsorted_df.sort_values('col1')\n",
    "\n",
    "print (sorted_df)"
   ]
  },
  {
   "cell_type": "code",
   "execution_count": 33,
   "metadata": {
    "collapsed": false
   },
   "outputs": [
    {
     "name": "stdout",
     "output_type": "stream",
     "text": [
      "   col1  col2\n",
      "0     2     1\n",
      "3     1     4\n",
      "1     1     3\n",
      "2     1     2\n"
     ]
    }
   ],
   "source": [
    "unsorted_df = pd.DataFrame({'col1':[2,1,1,1],'col2':[1,3,2,4]})\n",
    "sorted_df = unsorted_df.sort_values(['col1','col2'],ascending=False)\n",
    "\n",
    "print (sorted_df)"
   ]
  },
  {
   "cell_type": "code",
   "execution_count": 34,
   "metadata": {
    "collapsed": false
   },
   "outputs": [
    {
     "name": "stdout",
     "output_type": "stream",
     "text": [
      "   col1  col2\n",
      "1     1     3\n",
      "2     1     2\n",
      "3     1     4\n",
      "0     2     1\n"
     ]
    }
   ],
   "source": [
    "unsorted_df = pd.DataFrame({'col1':[2,1,1,1],'col2':[1,3,2,4]})\n",
    "sorted_df = unsorted_df.sort_values(by='col1' ,kind='mergesort')\n",
    "\n",
    "print (sorted_df)"
   ]
  },
  {
   "cell_type": "code",
   "execution_count": null,
   "metadata": {
    "collapsed": true
   },
   "outputs": [],
   "source": []
  }
 ],
 "metadata": {
  "kernelspec": {
   "display_name": "Python [default]",
   "language": "python",
   "name": "python3"
  },
  "language_info": {
   "codemirror_mode": {
    "name": "ipython",
    "version": 3
   },
   "file_extension": ".py",
   "mimetype": "text/x-python",
   "name": "python",
   "nbconvert_exporter": "python",
   "pygments_lexer": "ipython3",
   "version": "3.5.2"
  }
 },
 "nbformat": 4,
 "nbformat_minor": 1
}
