{
 "cells": [
  {
   "cell_type": "code",
   "execution_count": 6,
   "metadata": {
    "collapsed": false
   },
   "outputs": [
    {
     "name": "stdout",
     "output_type": "stream",
     "text": [
      "this found in text-  this is my regex check\n",
      "that not found in text-  this is my regex check\n"
     ]
    }
   ],
   "source": [
    "import re \n",
    "patterns=['this','that']\n",
    "text='this is my regex check'\n",
    "for pattern in patterns:\n",
    "    if re.search(pattern,text):\n",
    "        print(pattern, \"found in text-\",'',text)\n",
    "    else:\n",
    "        print(pattern, \"not found in text-\",'',text)\n"
   ]
  },
  {
   "cell_type": "code",
   "execution_count": 8,
   "metadata": {
    "collapsed": false
   },
   "outputs": [
    {
     "name": "stdout",
     "output_type": "stream",
     "text": [
      "Found \"this\" in \"Does this text match the pattern?\" from 5 to 9 (\"this\")\n"
     ]
    }
   ],
   "source": [
    "import re\n",
    "\n",
    "pattern = 'this'\n",
    "text = 'Does this text match the pattern?'\n",
    "\n",
    "match = re.search(pattern, text)\n",
    "\n",
    "s = match.start()\n",
    "e = match.end()\n",
    "\n",
    "print ('Found \"%s\" in \"%s\" from %d to %d (\"%s\")' % \\\n",
    "    (match.re.pattern, match.string, s, e, text[s:e]))"
   ]
  },
  {
   "cell_type": "code",
   "execution_count": 15,
   "metadata": {
    "collapsed": false
   },
   "outputs": [
    {
     "name": "stdout",
     "output_type": "stream",
     "text": [
      "for  0  3\n"
     ]
    }
   ],
   "source": [
    "import re\n",
    "pattern ='for'\n",
    "text= 'for the people'\n",
    "match=re.search(pattern,text)\n",
    "st=match.start()\n",
    "ed=match.end()\n",
    "#print(match,'',st,'',ed)\n",
    "print(match.re.pattern,'',st,'',ed)\n"
   ]
  },
  {
   "cell_type": "code",
   "execution_count": 20,
   "metadata": {
    "collapsed": false
   },
   "outputs": [
    {
     "name": "stdout",
     "output_type": "stream",
     "text": [
      "Found \"ab\" at 0:2\n",
      "Found \"ab\" at 5:7\n"
     ]
    }
   ],
   "source": [
    "import re\n",
    "\n",
    "text = 'abbaaabbbbaaaaa'\n",
    "\n",
    "pattern = 'ab'\n",
    "\n",
    "for match in re.finditer(pattern, text):\n",
    "    s = match.start()\n",
    "    e = match.end()\n",
    "    print ('Found \"%s\" at %d:%d' % (text[s:e], s, e))"
   ]
  },
  {
   "cell_type": "code",
   "execution_count": 22,
   "metadata": {
    "collapsed": false
   },
   "outputs": [
    {
     "name": "stdout",
     "output_type": "stream",
     "text": [
      "Found \"ab\"\n",
      "Found \"ab\"\n"
     ]
    }
   ],
   "source": [
    "import re\n",
    "\n",
    "text = 'abbaaabbbbaaaaa'\n",
    "\n",
    "pattern = 'ab'\n",
    "\n",
    "for match in re.findall(pattern, text):\n",
    "        print ('Found \"%s\"' % match)"
   ]
  },
  {
   "cell_type": "code",
   "execution_count": 46,
   "metadata": {
    "collapsed": false
   },
   "outputs": [
    {
     "name": "stdout",
     "output_type": "stream",
     "text": [
      "Found \"abb\" at 0:2\n",
      "Found \"a\" at 3:3\n",
      "Found \"a\" at 4:4\n",
      "Found \"abbbb\" at 5:9\n",
      "Found \"a\" at 10:10\n",
      "Found \"a\" at 11:11\n",
      "Found \"a\" at 12:12\n",
      "Found \"a\" at 13:13\n",
      "Found \"a\" at 14:14\n"
     ]
    }
   ],
   "source": [
    "import re\n",
    "\n",
    "text = 'abbaaabbbbaaaaa'\n",
    "\n",
    "#pattern = 'ab'\n",
    "pattern = 'ab*'\n",
    "match1=re.search(pattern,text)\n",
    "\n",
    "for match in re.finditer(pattern,text):\n",
    "    s = match.start()\n",
    "    e = match.end()\n",
    "    print ('Found \"%s\" at %d:%d' % (text[s:e], s, e-1))\n",
    "\n"
   ]
  },
  {
   "cell_type": "code",
   "execution_count": 47,
   "metadata": {
    "collapsed": false
   },
   "outputs": [
    {
     "name": "stdout",
     "output_type": "stream",
     "text": [
      "Found \"abb\" at 0:2\n",
      "Found \"abbbb\" at 5:9\n"
     ]
    }
   ],
   "source": [
    "import re\n",
    "\n",
    "text = 'abbaaabbbbaaaaa'\n",
    "\n",
    "#pattern = 'ab'\n",
    "pattern = 'ab+'\n",
    "match1=re.search(pattern,text)\n",
    "\n",
    "for match in re.finditer(pattern,text):\n",
    "    s = match.start()\n",
    "    e = match.end()\n",
    "    print ('Found \"%s\" at %d:%d' % (text[s:e], s, e-1))"
   ]
  },
  {
   "cell_type": "code",
   "execution_count": 48,
   "metadata": {
    "collapsed": false
   },
   "outputs": [
    {
     "name": "stdout",
     "output_type": "stream",
     "text": [
      "Found \"ab\" at 0:1\n",
      "Found \"a\" at 3:3\n",
      "Found \"a\" at 4:4\n",
      "Found \"ab\" at 5:6\n",
      "Found \"a\" at 10:10\n",
      "Found \"a\" at 11:11\n",
      "Found \"a\" at 12:12\n",
      "Found \"a\" at 13:13\n",
      "Found \"a\" at 14:14\n"
     ]
    }
   ],
   "source": [
    "import re\n",
    "\n",
    "text = 'abbaaabbbbaaaaa'\n",
    "\n",
    "#pattern = 'ab'\n",
    "pattern = 'ab?'\n",
    "match1=re.search(pattern,text)\n",
    "\n",
    "for match in re.finditer(pattern,text):\n",
    "    s = match.start()\n",
    "    e = match.end()\n",
    "    print ('Found \"%s\" at %d:%d' % (text[s:e], s, e-1))"
   ]
  },
  {
   "cell_type": "code",
   "execution_count": 51,
   "metadata": {
    "collapsed": false
   },
   "outputs": [
    {
     "name": "stdout",
     "output_type": "stream",
     "text": [
      "Found \"abbb\" at 5:8\n"
     ]
    }
   ],
   "source": [
    "import re\n",
    "\n",
    "text = 'abbaaabbbbaaaaa'\n",
    "\n",
    "#pattern = 'ab'\n",
    "pattern = 'ab{3}'\n",
    "match1=re.search(pattern,text)\n",
    "\n",
    "for match in re.finditer(pattern,text):\n",
    "    s = match.start()\n",
    "    e = match.end()\n",
    "    print ('Found \"%s\" at %d:%d' % (text[s:e], s, e-1))"
   ]
  },
  {
   "cell_type": "code",
   "execution_count": 50,
   "metadata": {
    "collapsed": false
   },
   "outputs": [
    {
     "name": "stdout",
     "output_type": "stream",
     "text": [
      "Found \"abb\" at 0:2\n",
      "Found \"abbb\" at 5:8\n"
     ]
    }
   ],
   "source": [
    "import re\n",
    "\n",
    "text = 'abbaaabbbbaaaaa'\n",
    "\n",
    "#pattern = 'ab'\n",
    "pattern = 'ab{2,3}'\n",
    "match1=re.search(pattern,text)\n",
    "\n",
    "for match in re.finditer(pattern,text):\n",
    "    s = match.start()\n",
    "    e = match.end()\n",
    "    print ('Found \"%s\" at %d:%d' % (text[s:e], s, e-1))"
   ]
  },
  {
   "cell_type": "code",
   "execution_count": 52,
   "metadata": {
    "collapsed": false
   },
   "outputs": [
    {
     "name": "stdout",
     "output_type": "stream",
     "text": [
      "Found \"a\" at 0:0\n",
      "Found \"a\" at 3:3\n",
      "Found \"a\" at 4:4\n",
      "Found \"a\" at 5:5\n",
      "Found \"a\" at 10:10\n",
      "Found \"a\" at 11:11\n",
      "Found \"a\" at 12:12\n",
      "Found \"a\" at 13:13\n",
      "Found \"a\" at 14:14\n"
     ]
    }
   ],
   "source": [
    "import re\n",
    "\n",
    "text = 'abbaaabbbbaaaaa'\n",
    "\n",
    "#pattern = 'ab'\n",
    "pattern = 'ab*?'\n",
    "match1=re.search(pattern,text)\n",
    "\n",
    "for match in re.finditer(pattern,text):\n",
    "    s = match.start()\n",
    "    e = match.end()\n",
    "    print ('Found \"%s\" at %d:%d' % (text[s:e], s, e-1))"
   ]
  },
  {
   "cell_type": "code",
   "execution_count": 53,
   "metadata": {
    "collapsed": false
   },
   "outputs": [
    {
     "name": "stdout",
     "output_type": "stream",
     "text": [
      "Found \"ab\" at 0:1\n",
      "Found \"ab\" at 5:6\n"
     ]
    }
   ],
   "source": [
    "import re\n",
    "\n",
    "text = 'abbaaabbbbaaaaa'\n",
    "\n",
    "#pattern = 'ab'\n",
    "pattern = 'ab+?'\n",
    "match1=re.search(pattern,text)\n",
    "\n",
    "for match in re.finditer(pattern,text):\n",
    "    s = match.start()\n",
    "    e = match.end()\n",
    "    print ('Found \"%s\" at %d:%d' % (text[s:e], s, e-1))"
   ]
  },
  {
   "cell_type": "code",
   "execution_count": 54,
   "metadata": {
    "collapsed": false
   },
   "outputs": [
    {
     "name": "stdout",
     "output_type": "stream",
     "text": [
      "Found \"a\" at 0:0\n",
      "Found \"a\" at 3:3\n",
      "Found \"a\" at 4:4\n",
      "Found \"a\" at 5:5\n",
      "Found \"a\" at 10:10\n",
      "Found \"a\" at 11:11\n",
      "Found \"a\" at 12:12\n",
      "Found \"a\" at 13:13\n",
      "Found \"a\" at 14:14\n"
     ]
    }
   ],
   "source": [
    "import re\n",
    "\n",
    "text = 'abbaaabbbbaaaaa'\n",
    "\n",
    "#pattern = 'ab'\n",
    "pattern = 'ab??'\n",
    "match1=re.search(pattern,text)\n",
    "\n",
    "for match in re.finditer(pattern,text):\n",
    "    s = match.start()\n",
    "    e = match.end()\n",
    "    print ('Found \"%s\" at %d:%d' % (text[s:e], s, e-1))"
   ]
  },
  {
   "cell_type": "code",
   "execution_count": 55,
   "metadata": {
    "collapsed": false
   },
   "outputs": [
    {
     "name": "stdout",
     "output_type": "stream",
     "text": [
      "Found \"abb\" at 0:2\n",
      "Found \"abb\" at 5:7\n"
     ]
    }
   ],
   "source": [
    "import re\n",
    "\n",
    "text = 'abbaaabbbbaaaaa'\n",
    "\n",
    "#pattern = 'ab'\n",
    "pattern = 'ab{2,3}?'\n",
    "match1=re.search(pattern,text)\n",
    "\n",
    "for match in re.finditer(pattern,text):\n",
    "    s = match.start()\n",
    "    e = match.end()\n",
    "    print ('Found \"%s\" at %d:%d' % (text[s:e], s, e-1))"
   ]
  },
  {
   "cell_type": "code",
   "execution_count": 57,
   "metadata": {
    "collapsed": false
   },
   "outputs": [
    {
     "name": "stdout",
     "output_type": "stream",
     "text": [
      "Found \"a\" at 0:0\n",
      "Found \"b\" at 1:1\n",
      "Found \"b\" at 2:2\n",
      "Found \"a\" at 3:3\n",
      "Found \"a\" at 4:4\n",
      "Found \"a\" at 5:5\n",
      "Found \"b\" at 6:6\n",
      "Found \"b\" at 7:7\n",
      "Found \"b\" at 8:8\n",
      "Found \"b\" at 9:9\n",
      "Found \"a\" at 10:10\n",
      "Found \"a\" at 11:11\n",
      "Found \"a\" at 12:12\n",
      "Found \"a\" at 13:13\n",
      "Found \"a\" at 14:14\n"
     ]
    }
   ],
   "source": [
    "import re\n",
    "\n",
    "text = 'abbaaabbbbaaaaa'\n",
    "\n",
    "#pattern = 'ab'\n",
    "pattern = '[ab]'\n",
    "match1=re.search(pattern,text)\n",
    "\n",
    "for match in re.finditer(pattern,text):\n",
    "    s = match.start()\n",
    "    e = match.end()\n",
    "    print ('Found \"%s\" at %d:%d' % (text[s:e], s, e-1))"
   ]
  },
  {
   "cell_type": "code",
   "execution_count": 58,
   "metadata": {
    "collapsed": false
   },
   "outputs": [
    {
     "name": "stdout",
     "output_type": "stream",
     "text": [
      "Found \"ab\" at 0:1\n",
      "Found \"aa\" at 3:4\n",
      "Found \"ab\" at 5:6\n",
      "Found \"aa\" at 10:11\n",
      "Found \"aa\" at 12:13\n"
     ]
    }
   ],
   "source": [
    "import re\n",
    "\n",
    "text = 'abbaaabbbbaaaaa'\n",
    "\n",
    "#pattern = 'ab'\n",
    "pattern = 'a[ab]'\n",
    "match1=re.search(pattern,text)\n",
    "\n",
    "for match in re.finditer(pattern,text):\n",
    "    s = match.start()\n",
    "    e = match.end()\n",
    "    print ('Found \"%s\" at %d:%d' % (text[s:e], s, e-1))"
   ]
  },
  {
   "cell_type": "code",
   "execution_count": 60,
   "metadata": {
    "collapsed": false
   },
   "outputs": [
    {
     "name": "stdout",
     "output_type": "stream",
     "text": [
      "Found \"ab\" at 0:1\n",
      "Found \"aa\" at 3:4\n",
      "Found \"ab\" at 5:6\n",
      "Found \"aa\" at 10:11\n",
      "Found \"aa\" at 12:13\n"
     ]
    }
   ],
   "source": [
    "import re\n",
    "\n",
    "text = 'abbaaabbbbaaaaa'\n",
    "\n",
    "#pattern = 'ab'\n",
    "pattern = 'a[ab]+?'\n",
    "match1=re.search(pattern,text)\n",
    "\n",
    "for match in re.finditer(pattern,text):\n",
    "    s = match.start()\n",
    "    e = match.end()\n",
    "    print ('Found \"%s\" at %d:%d' % (text[s:e], s, e-1))"
   ]
  },
  {
   "cell_type": "code",
   "execution_count": 63,
   "metadata": {
    "collapsed": false
   },
   "outputs": [
    {
     "name": "stdout",
     "output_type": "stream",
     "text": [
      "Found \"t\" at 0:0\n",
      "Found \"h\" at 1:1\n",
      "Found \"i\" at 2:2\n",
      "Found \"s\" at 3:3\n",
      "Found \" \" at 4:4\n",
      "Found \"i\" at 5:5\n",
      "Found \"s\" at 6:6\n",
      "Found \" \" at 7:7\n",
      "Found \" \" at 10:10\n",
      "Found \"s\" at 11:11\n",
      "Found \"a\" at 12:12\n",
      "Found \"m\" at 13:13\n",
      "Found \"p\" at 14:14\n",
      "Found \"l\" at 15:15\n",
      "Found \"e\" at 16:16\n",
      "Found \" \" at 17:17\n",
      "Found \"t\" at 18:18\n",
      "Found \"e\" at 19:19\n",
      "Found \"s\" at 20:20\n",
      "Found \"t\" at 21:21\n",
      "Found \" \" at 22:22\n"
     ]
    }
   ],
   "source": [
    "import re\n",
    "\n",
    "text = 'this is -- sample test .'\n",
    "\n",
    "#pattern = 'ab'\n",
    "pattern = '[^-.]'##escape character\n",
    "match1=re.search(pattern,text)\n",
    "\n",
    "for match in re.finditer(pattern,text):\n",
    "    s = match.start()\n",
    "    e = match.end()\n",
    "    print ('Found \"%s\" at %d:%d' % (text[s:e], s, e-1))"
   ]
  },
  {
   "cell_type": "code",
   "execution_count": 66,
   "metadata": {
    "collapsed": false
   },
   "outputs": [
    {
     "name": "stdout",
     "output_type": "stream",
     "text": [
      "Found \"01\" at 22:23\n"
     ]
    }
   ],
   "source": [
    "import re\n",
    "\n",
    "text = 'this is -- Sample test01 .'\n",
    "\n",
    "#pattern = 'ab'\n",
    "pattern = '[0-9][A-Z0-9]'\n",
    "match1=re.search(pattern,text)\n",
    "\n",
    "for match in re.finditer(pattern,text):\n",
    "    s = match.start()\n",
    "    e = match.end()\n",
    "    print ('Found \"%s\" at %d:%d' % (text[s:e], s, e-1))"
   ]
  },
  {
   "cell_type": "code",
   "execution_count": null,
   "metadata": {
    "collapsed": true
   },
   "outputs": [],
   "source": []
  }
 ],
 "metadata": {
  "anaconda-cloud": {},
  "kernelspec": {
   "display_name": "Python [default]",
   "language": "python",
   "name": "python3"
  },
  "language_info": {
   "codemirror_mode": {
    "name": "ipython",
    "version": 3
   },
   "file_extension": ".py",
   "mimetype": "text/x-python",
   "name": "python",
   "nbconvert_exporter": "python",
   "pygments_lexer": "ipython3",
   "version": "3.5.2"
  }
 },
 "nbformat": 4,
 "nbformat_minor": 1
}
